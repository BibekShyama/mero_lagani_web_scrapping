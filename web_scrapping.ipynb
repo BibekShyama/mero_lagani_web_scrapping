{
 "cells": [
  {
   "cell_type": "code",
   "execution_count": 1,
   "metadata": {},
   "outputs": [],
   "source": [
    "from selenium import webdriver\n",
    "from selenium.webdriver.edge.service import Service\n",
    "from selenium.webdriver.common.by import By\n",
    "from selenium.webdriver.edge.options import Options\n",
    "from selenium.common.exceptions import NoSuchElementException, TimeoutException\n",
    "from webdriver_manager.microsoft import EdgeChromiumDriverManager\n",
    "from datetime import datetime\n",
    "import sys\n",
    "import pandas as pd\n",
    "from bs4 import BeautifulSoup\n",
    "import os"
   ]
  },
  {
   "cell_type": "code",
   "execution_count": 2,
   "metadata": {},
   "outputs": [],
   "source": [
    "def search(driver, date):\n",
    "    \"\"\"\n",
    "    Searches for the floorsheet based on the given date.\n",
    "    Date should be in mm/dd/yyyy format.\n",
    "    \"\"\"\n",
    "    try:\n",
    "        driver.get(\"https://merolagani.com/Floorsheet.aspx\")\n",
    "        \n",
    "        # Locate the date input field and search button\n",
    "        date_input = driver.find_element(By.XPATH, '/html/body/form/div[4]/div[4]/div/div/div[1]/div[4]/input')\n",
    "        search_btn = driver.find_element(By.XPATH, '/html/body/form/div[4]/div[4]/div/div/div[2]/a[1]')\n",
    "\n",
    "        # Enter the date and perform search\n",
    "        date_input.clear()\n",
    "        date_input.send_keys(date)\n",
    "        search_btn.click()\n",
    "\n",
    "        # Check for the \"No data\" message\n",
    "        no_data_message = \"//*[contains(text(), 'Could not find floorsheet matching the search criteria')]\"\n",
    "        if driver.find_elements(By.XPATH, no_data_message):\n",
    "            print(\"No data found for the given search.\")\n",
    "            print(\"Aborting script ......\")\n",
    "            sys.exit()\n",
    "        else:\n",
    "            print(\"Search completed successfully.\")\n",
    "    except NoSuchElementException as e:\n",
    "        print(\"Error: Element not found on the page.\")\n",
    "        print(f\"Details: {e}\")\n",
    "    except TimeoutException as e:\n",
    "        print(\"Error: Page load timeout.\")\n",
    "        print(f\"Details: {e}\")\n",
    "    except Exception as e:\n",
    "        print(f\"Unexpected error: {e}\")\n"
   ]
  },
  {
   "cell_type": "code",
   "execution_count": 3,
   "metadata": {},
   "outputs": [],
   "source": [
    "def get_page_table(driver, table_class):\n",
    "    soup = BeautifulSoup(driver.page_source,'html')\n",
    "    table = soup.find(\"table\", {\"class\":table_class})\n",
    "    tab_data = [[cell.text.replace('\\r', '').replace('\\n', '') for cell in row.find_all([\"th\",\"td\"])]\n",
    "                        for row in table.find_all(\"tr\")]\n",
    "    df = pd.DataFrame(tab_data)\n",
    "    return df"
   ]
  },
  {
   "cell_type": "code",
   "execution_count": 4,
   "metadata": {},
   "outputs": [],
   "source": [
    "def scrape_data(driver, date):\n",
    "    start_time = datetime.now()\n",
    "    search(driver, date = date)\n",
    "    df = pd.DataFrame()\n",
    "    while True:\n",
    "        page_table_df = get_page_table(driver, table_class=\"table table-bordered table-striped table-hover sortable\")\n",
    "        df = pd.concat([df, page_table_df], ignore_index=True)  # Corrected line\n",
    "        try:\n",
    "            next_btn = driver.find_element(By.LINK_TEXT, 'Next')\n",
    "\n",
    "            driver.execute_script(\"arguments[0].click();\", next_btn)\n",
    "        except NoSuchElementException:\n",
    "            break\n",
    "    print(f\"Time taken to scrape: {datetime.now() - start_time}\")    \n",
    "    return df\n"
   ]
  },
  {
   "cell_type": "code",
   "execution_count": 5,
   "metadata": {},
   "outputs": [],
   "source": [
    "def clean_df(df):\n",
    "    new_df = df.drop_duplicates(keep='first') # Dropping Duplicates\n",
    "    new_header = new_df.iloc[0] # grabing the first row for the header\n",
    "    new_df = new_df[1:] # taking the data lower than the header row\n",
    "    new_df.columns = new_header # setting the header row as the df header\n",
    "    new_df.drop([\"#\"], axis=1, inplace=True)\n",
    "    #converting string into float\n",
    "    new_df['Rate']=new_df['Rate'].replace({',':\"\"},regex=True).astype(float)\n",
    "    new_df['Amount'] = new_df['Amount'].replace({',': ''}, regex=True).astype(float)\n",
    "    return new_df"
   ]
  },
  {
   "cell_type": "code",
   "execution_count": null,
   "metadata": {},
   "outputs": [
    {
     "name": "stdout",
     "output_type": "stream",
     "text": [
      "Stock market is closed today (friday). Execution terminated.\n"
     ]
    }
   ],
   "source": [
    "\n",
    "# Configure Edge options\n",
    "options = Options()\n",
    "options.headless = True  # Run in headless mode (no browser GUI)\n",
    "options.add_argument(\"--disable-gpu\")  # Improve performance in headless mode\n",
    "options.add_argument(\"--no-sandbox\")\n",
    "options.add_argument(\"--disable-dev-shm-usage\")\n",
    "\n",
    "\n",
    "# Initialize the Edge WebDriver\n",
    "driver = webdriver.Edge(service=Service(EdgeChromiumDriverManager().install()), options=options)\n",
    "\n",
    "# Format today's date\n",
    "current_day=datetime.now().strftime(\"%A\").lower()\n",
    "date = datetime.today().strftime('%m/%d/%Y')\n",
    "\n",
    "stock_closed_day_list=['friday','saturday','sunday']\n",
    "\n",
    "if current_day not in stock_closed_day_list:\n",
    "    # Perform the search\n",
    "    search(driver, date)\n",
    "    df=scrape_data(driver,date)\n",
    "    driver.quit()\n",
    "else:\n",
    "    print(f\"Stock market is closed today ({current_day}). Execution terminated.\")\n",
    "    exit()"
   ]
  },
  {
   "cell_type": "code",
   "execution_count": null,
   "metadata": {},
   "outputs": [
    {
     "ename": "NameError",
     "evalue": "name 'df' is not defined",
     "output_type": "error",
     "traceback": [
      "\u001b[1;31m---------------------------------------------------------------------------\u001b[0m",
      "\u001b[1;31mNameError\u001b[0m                                 Traceback (most recent call last)",
      "Cell \u001b[1;32mIn[7], line 1\u001b[0m\n\u001b[1;32m----> 1\u001b[0m final_df\u001b[38;5;241m=\u001b[39mclean_df(\u001b[43mdf\u001b[49m)\n",
      "\u001b[1;31mNameError\u001b[0m: name 'df' is not defined"
     ]
    },
    {
     "ename": "",
     "evalue": "",
     "output_type": "error",
     "traceback": [
      "\u001b[1;31mThe Kernel crashed while executing code in the current cell or a previous cell. \n",
      "\u001b[1;31mPlease review the code in the cell(s) to identify a possible cause of the failure. \n",
      "\u001b[1;31mClick <a href='https://aka.ms/vscodeJupyterKernelCrash'>here</a> for more info. \n",
      "\u001b[1;31mView Jupyter <a href='command:jupyter.viewOutput'>log</a> for further details."
     ]
    }
   ],
   "source": [
    "final_df=clean_df(df)\n"
   ]
  },
  {
   "cell_type": "code",
   "execution_count": null,
   "metadata": {},
   "outputs": [],
   "source": [
    "#creating the directory if it does not exist\n",
    "if not os.path.exists('data'):\n",
    "    os.makedirs('data')\n",
    "file_name=date.replace(\"/\",\"-\")\n",
    "final_df.to_csv(f\"data/{file_name}.csv\",index=False)"
   ]
  }
 ],
 "metadata": {
  "language_info": {
   "name": "python"
  }
 },
 "nbformat": 4,
 "nbformat_minor": 2
}
